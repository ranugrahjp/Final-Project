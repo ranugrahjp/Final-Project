{
 "cells": [
  {
   "cell_type": "code",
   "execution_count": 1,
   "id": "3b33dbbe",
   "metadata": {},
   "outputs": [
    {
     "name": "stdout",
     "output_type": "stream",
     "text": [
      "Password: ········\n",
      "Subject: Halo\n",
      "Isi Pesan: tes\n",
      "Pesan berhasil dikirim\n"
     ]
    }
   ],
   "source": [
    "import email, smtplib, ssl, csv\n",
    "\n",
    "from email import encoders\n",
    "from email.mime.base import MIMEBase\n",
    "from email.mime.multipart import MIMEMultipart\n",
    "from email.mime.image import MIMEImage\n",
    "from email.mime.text import MIMEText\n",
    "from getpass import getpass\n",
    "\n",
    "sender_email = \"11751102057@students.uin-suska.ac.id\"\n",
    "password = getpass(\"Password: \")\n",
    "subject = input(\"Subject: \")\n",
    "isipesan = input(\"Isi Pesan: \")\n",
    "\n",
    "# Create a multipart message\n",
    "message = MIMEMultipart()\n",
    "message[\"From\"] = sender_email\n",
    "message[\"Subject\"] = subject\n",
    "\n",
    "# Add body to email\n",
    "body = isipesan\n",
    "message.attach(MIMEText(body, \"plain\"))\n",
    "\n",
    "# Add attachment\n",
    "filename = \"lampiran.txt\"\n",
    "attachment = open(filename, \"rb\")\n",
    " \n",
    "part = MIMEBase('application', 'octet-stream')\n",
    "part.set_payload((attachment).read())\n",
    "encoders.encode_base64(part)\n",
    "part.add_header('Content-Disposition', \"attachment; filename= %s\" % filename)\n",
    "\n",
    "message.attach(part)\n",
    "\n",
    "# Add attachment to message and convert message to string\n",
    "text = message.as_string()\n",
    "\n",
    "# Log in to server using secure context and send email\n",
    "context = ssl.create_default_context()\n",
    "with smtplib.SMTP_SSL(\"smtp.gmail.com\", 465, context=context) as server:\n",
    "    server.login(sender_email, password)\n",
    "    with open(\"receiver_list.txt\") as file:\n",
    "        reader = csv.reader(file)\n",
    "        for email in reader:\n",
    "            server.sendmail(\n",
    "                sender_email,\n",
    "                email,\n",
    "                text\n",
    "            )\n",
    "    print(\"Pesan berhasil dikirim\") #menampilkan pesan berhasil dikirim\n",
    "    server.quit() #selesai"
   ]
  },
  {
   "cell_type": "code",
   "execution_count": null,
   "id": "f786f6cc",
   "metadata": {},
   "outputs": [],
   "source": []
  }
 ],
 "metadata": {
  "kernelspec": {
   "display_name": "Python 3 (ipykernel)",
   "language": "python",
   "name": "python3"
  },
  "language_info": {
   "codemirror_mode": {
    "name": "ipython",
    "version": 3
   },
   "file_extension": ".py",
   "mimetype": "text/x-python",
   "name": "python",
   "nbconvert_exporter": "python",
   "pygments_lexer": "ipython3",
   "version": "3.10.5"
  }
 },
 "nbformat": 4,
 "nbformat_minor": 5
}
